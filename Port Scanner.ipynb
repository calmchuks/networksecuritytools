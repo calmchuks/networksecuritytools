{
 "cells": [
  {
   "cell_type": "code",
   "execution_count": 3,
   "id": "02e7b811",
   "metadata": {},
   "outputs": [
    {
     "name": "stdout",
     "output_type": "stream",
     "text": [
      "Enter the IP address or hostname to scan: 10.2.100.1\n",
      "Enter the ports to scan (separated by commas): 445, 443, 80\n",
      "\n",
      "[+] Scan result of: 10.2.100.1\n",
      "Scanning Port: 445\n",
      "[-] 445/tcp closed\n",
      "Scanning Port: 443\n",
      "[+] 443/tcp open\n",
      "Scanning Port: 80\n",
      "[+] 80/tcp open\n"
     ]
    }
   ],
   "source": [
    "from socket import *\n",
    "\n",
    "def conScan(tgtHost, tgtPort):\n",
    "    try:\n",
    "        connskt = socket(AF_INET, SOCK_STREAM)\n",
    "        connskt.connect((tgtHost, tgtPort))\n",
    "        print('[+] %d/tcp open' % tgtPort)\n",
    "        connskt.close()\n",
    "    except Exception as e:\n",
    "        print('[-] %d/tcp closed' % tgtPort)\n",
    "\n",
    "def portScan():\n",
    "    tgtHost = input(\"Enter the IP address or hostname to scan: \")\n",
    "    tgtPorts = input(\"Enter the ports to scan (separated by commas): \").split(\",\")\n",
    "    tgtPorts = [int(port.strip()) for port in tgtPorts]\n",
    "\n",
    "    try:\n",
    "        tgtIP = gethostbyname(tgtHost)\n",
    "    except Exception as e:\n",
    "        print('[-] Cannot resolve %s' % tgtHost)\n",
    "        return\n",
    "\n",
    "    try:\n",
    "        tgtName = gethostbyaddr(tgtIP)\n",
    "        print('\\n[+] Scan result of: %s' % tgtName[0])\n",
    "    except Exception as e:\n",
    "        print('\\n[+] Scan result of: %s' % tgtIP)\n",
    "\n",
    "    setdefaulttimeout(1)\n",
    "    for tgtPort in tgtPorts:\n",
    "        print('Scanning Port: %d' % tgtPort)\n",
    "        conScan(tgtHost, tgtPort)\n",
    "\n",
    "if __name__ == '__main__':\n",
    "    portScan()\n"
   ]
  },
  {
   "cell_type": "code",
   "execution_count": 25,
   "id": "6ea39fd2",
   "metadata": {},
   "outputs": [
    {
     "ename": "SyntaxError",
     "evalue": "invalid syntax (3289901180.py, line 1)",
     "output_type": "error",
     "traceback": [
      "\u001b[1;36m  Cell \u001b[1;32mIn[25], line 1\u001b[1;36m\u001b[0m\n\u001b[1;33m    142.250.176.78\u001b[0m\n\u001b[1;37m           ^\u001b[0m\n\u001b[1;31mSyntaxError\u001b[0m\u001b[1;31m:\u001b[0m invalid syntax\n"
     ]
    }
   ],
   "source": []
  },
  {
   "cell_type": "code",
   "execution_count": null,
   "id": "29e14cda",
   "metadata": {},
   "outputs": [],
   "source": []
  },
  {
   "cell_type": "code",
   "execution_count": null,
   "id": "3bc4977d",
   "metadata": {},
   "outputs": [],
   "source": []
  },
  {
   "cell_type": "code",
   "execution_count": null,
   "id": "aa2a09db",
   "metadata": {},
   "outputs": [],
   "source": []
  },
  {
   "cell_type": "code",
   "execution_count": null,
   "id": "5d00036f",
   "metadata": {},
   "outputs": [],
   "source": []
  }
 ],
 "metadata": {
  "kernelspec": {
   "display_name": "Python 3 (ipykernel)",
   "language": "python",
   "name": "python3"
  },
  "language_info": {
   "codemirror_mode": {
    "name": "ipython",
    "version": 3
   },
   "file_extension": ".py",
   "mimetype": "text/x-python",
   "name": "python",
   "nbconvert_exporter": "python",
   "pygments_lexer": "ipython3",
   "version": "3.10.9"
  }
 },
 "nbformat": 4,
 "nbformat_minor": 5
}
